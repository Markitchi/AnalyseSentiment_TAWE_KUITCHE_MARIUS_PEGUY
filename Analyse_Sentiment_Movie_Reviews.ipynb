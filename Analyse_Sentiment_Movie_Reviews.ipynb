{
 "cells": [
  {
   "cell_type": "markdown",
   "id": "40ef445b",
   "metadata": {},
   "source": [
    "# 📘 Analyse de sentiment de critiques de films\n",
    "Ce notebook vous guide dans la construction d’un modèle de Machine Learning pour prédire si une critique de film est **positive** ou **négative**."
   ]
  },
  {
   "cell_type": "markdown",
   "id": "875808b6",
   "metadata": {},
   "source": [
    "## 📥 1. Importation des librairies"
   ]
  },
  {
   "cell_type": "code",
   "execution_count": 1,
   "id": "ff59c3ce",
   "metadata": {},
   "outputs": [
    {
     "name": "stderr",
     "output_type": "stream",
     "text": [
      "[nltk_data] Downloading package stopwords to C:\\Users\\Marius\n",
      "[nltk_data]     Peguy\\AppData\\Roaming\\nltk_data...\n",
      "[nltk_data]   Package stopwords is already up-to-date!\n"
     ]
    }
   ],
   "source": [
    "import pandas as pd\n",
    "import numpy as np\n",
    "import matplotlib.pyplot as plt\n",
    "import seaborn as sns\n",
    "from sklearn.model_selection import train_test_split\n",
    "from sklearn.feature_extraction.text import TfidfVectorizer\n",
    "from sklearn.linear_model import LogisticRegression\n",
    "from sklearn.metrics import classification_report, confusion_matrix, accuracy_score, precision_recall_fscore_support\n",
    "import re\n",
    "import nltk\n",
    "nltk.download('stopwords')\n",
    "from nltk.corpus import stopwords"
   ]
  },
  {
   "cell_type": "markdown",
   "id": "80814ebf",
   "metadata": {},
   "source": [
    "## 📂 2. Chargement du dataset"
   ]
  },
  {
   "cell_type": "code",
   "execution_count": 2,
   "id": "fdeac463",
   "metadata": {},
   "outputs": [
    {
     "name": "stdout",
     "output_type": "stream",
     "text": [
      "Exemple de Critiques avec sentiments.\n"
     ]
    },
    {
     "data": {
      "text/html": [
       "<div>\n",
       "<style scoped>\n",
       "    .dataframe tbody tr th:only-of-type {\n",
       "        vertical-align: middle;\n",
       "    }\n",
       "\n",
       "    .dataframe tbody tr th {\n",
       "        vertical-align: top;\n",
       "    }\n",
       "\n",
       "    .dataframe thead th {\n",
       "        text-align: right;\n",
       "    }\n",
       "</style>\n",
       "<table border=\"1\" class=\"dataframe\">\n",
       "  <thead>\n",
       "    <tr style=\"text-align: right;\">\n",
       "      <th></th>\n",
       "      <th>review</th>\n",
       "      <th>sentiment</th>\n",
       "    </tr>\n",
       "  </thead>\n",
       "  <tbody>\n",
       "    <tr>\n",
       "      <th>0</th>\n",
       "      <td>Very disappointing. I expected much more.</td>\n",
       "      <td>negative</td>\n",
       "    </tr>\n",
       "    <tr>\n",
       "      <th>1</th>\n",
       "      <td>Badly directed and full of clichés.</td>\n",
       "      <td>negative</td>\n",
       "    </tr>\n",
       "    <tr>\n",
       "      <th>2</th>\n",
       "      <td>An outstanding piece of cinema, highly recomme...</td>\n",
       "      <td>positive</td>\n",
       "    </tr>\n",
       "    <tr>\n",
       "      <th>3</th>\n",
       "      <td>Poor acting and a completely predictable plot.</td>\n",
       "      <td>negative</td>\n",
       "    </tr>\n",
       "    <tr>\n",
       "      <th>4</th>\n",
       "      <td>Very disappointing. I expected much more.</td>\n",
       "      <td>negative</td>\n",
       "    </tr>\n",
       "  </tbody>\n",
       "</table>\n",
       "</div>"
      ],
      "text/plain": [
       "                                              review sentiment\n",
       "0          Very disappointing. I expected much more.  negative\n",
       "1                Badly directed and full of clichés.  negative\n",
       "2  An outstanding piece of cinema, highly recomme...  positive\n",
       "3     Poor acting and a completely predictable plot.  negative\n",
       "4          Very disappointing. I expected much more.  negative"
      ]
     },
     "execution_count": 2,
     "metadata": {},
     "output_type": "execute_result"
    }
   ],
   "source": [
    "df = pd.read_csv('movie_reviews_dataset.csv')\n",
    "\n",
    "print(\"Exemple de Critiques avec sentiments.\")\n",
    "#Affichage des premieres lignes du jeu de données.\n",
    "df.head()"
   ]
  },
  {
   "cell_type": "markdown",
   "id": "74228e6f",
   "metadata": {},
   "source": [
    "## 🔍 3. Analyse exploratoire rapide"
   ]
  },
  {
   "cell_type": "code",
   "execution_count": 3,
   "id": "cade4ae1",
   "metadata": {},
   "outputs": [
    {
     "name": "stdout",
     "output_type": "stream",
     "text": [
      "Exemple de Critique Positives :\n",
      "1. An outstanding piece of cinema, highly recommended.\n",
      "2. A touching and inspiring story that stays with you.\n",
      "\n",
      "Exemple de Critique Negatives : \n",
      "1. Very disappointing. I expected much more.\n",
      "2. Badly directed and full of clichés.\n",
      "\n",
      "Répartition des sentiments:\n",
      "sentiment\n",
      "negative    500\n",
      "positive    500\n",
      "Name: count, dtype: int64\n",
      "Nombre moyen de mots (critiques): 7.7\n"
     ]
    },
    {
     "data": {
      "image/png": "[encoded data removed]",
      "text/plain": [
       "<Figure size 640x480 with 1 Axes>"
      ]
     },
     "metadata": {},
     "output_type": "display_data"
    }
   ],
   "source": [
    "#Exemple de Critiques\n",
    "print(\"Exemple de Critique Positives :\")\n",
    "positives = df[df['sentiment']== 'positive']['review'].head(2)\n",
    "for i, review in enumerate(positives, 1):\n",
    "        print(f\"{i}. {review}\")\n",
    "\n",
    "print(\"\\nExemple de Critique Negatives : \")\n",
    "negatives = df[df['sentiment']== 'negative']['review'].head(2)\n",
    "for i, review in enumerate(negatives, 1):\n",
    "        print(f\"{i}. {review}\")\n",
    "#Comptage des classes\n",
    "print(\"\\nRépartition des sentiments:\")\n",
    "sentiment_counts = df['sentiment'].value_counts()\n",
    "print(sentiment_counts)\n",
    "\n",
    "#Calcul et affichage de la longueur moyenne des textes de Critiques.\n",
    "df['nb_mots'] = df['review'].str.split().str.len()\n",
    "print(f\"Nombre moyen de mots (critiques): {df['nb_mots'].mean():.1f}\")\n",
    "\n",
    "\n",
    "df['sentiment'].value_counts().plot(kind='bar', title='Répartition des sentiments')\n",
    "plt.show()"
   ]
  },
  {
   "cell_type": "markdown",
   "id": "cb8bcc00",
   "metadata": {},
   "source": [
    "## 🧼 4. Prétraitement du texte"
   ]
  },
  {
   "cell_type": "code",
   "execution_count": 4,
   "id": "ee646726",
   "metadata": {},
   "outputs": [
    {
     "name": "stdout",
     "output_type": "stream",
     "text": [
      "Nombre moyen de mots (nettoyés): 4.7\n"
     ]
    },
    {
     "data": {
      "text/html": [
       "<div>\n",
       "<style scoped>\n",
       "    .dataframe tbody tr th:only-of-type {\n",
       "        vertical-align: middle;\n",
       "    }\n",
       "\n",
       "    .dataframe tbody tr th {\n",
       "        vertical-align: top;\n",
       "    }\n",
       "\n",
       "    .dataframe thead th {\n",
       "        text-align: right;\n",
       "    }\n",
       "</style>\n",
       "<table border=\"1\" class=\"dataframe\">\n",
       "  <thead>\n",
       "    <tr style=\"text-align: right;\">\n",
       "      <th></th>\n",
       "      <th>review</th>\n",
       "      <th>cleaned_review</th>\n",
       "    </tr>\n",
       "  </thead>\n",
       "  <tbody>\n",
       "    <tr>\n",
       "      <th>0</th>\n",
       "      <td>Very disappointing. I expected much more.</td>\n",
       "      <td>disappointing expected much</td>\n",
       "    </tr>\n",
       "    <tr>\n",
       "      <th>1</th>\n",
       "      <td>Badly directed and full of clichés.</td>\n",
       "      <td>badly directed full clichs</td>\n",
       "    </tr>\n",
       "    <tr>\n",
       "      <th>2</th>\n",
       "      <td>An outstanding piece of cinema, highly recomme...</td>\n",
       "      <td>outstanding piece cinema highly recommended</td>\n",
       "    </tr>\n",
       "    <tr>\n",
       "      <th>3</th>\n",
       "      <td>Poor acting and a completely predictable plot.</td>\n",
       "      <td>poor acting completely predictable plot</td>\n",
       "    </tr>\n",
       "    <tr>\n",
       "      <th>4</th>\n",
       "      <td>Very disappointing. I expected much more.</td>\n",
       "      <td>disappointing expected much</td>\n",
       "    </tr>\n",
       "  </tbody>\n",
       "</table>\n",
       "</div>"
      ],
      "text/plain": [
       "                                              review  \\\n",
       "0          Very disappointing. I expected much more.   \n",
       "1                Badly directed and full of clichés.   \n",
       "2  An outstanding piece of cinema, highly recomme...   \n",
       "3     Poor acting and a completely predictable plot.   \n",
       "4          Very disappointing. I expected much more.   \n",
       "\n",
       "                                cleaned_review  \n",
       "0                  disappointing expected much  \n",
       "1                   badly directed full clichs  \n",
       "2  outstanding piece cinema highly recommended  \n",
       "3      poor acting completely predictable plot  \n",
       "4                  disappointing expected much  "
      ]
     },
     "execution_count": 4,
     "metadata": {},
     "output_type": "execute_result"
    }
   ],
   "source": [
    "\n",
    "def nettoyer_texte(text):\n",
    "    #Conversion en minuscule\n",
    "    text = text.lower()\n",
    "\n",
    "    #Suppression des caracters speciaux et chiffres\n",
    "    text = re.sub(r'[^a-zA-Z\\s]', '', text)\n",
    "\n",
    "    #Tokenisation NB: j'utilise nltk ici parceque c'est assez simple d'utilisation et bien documente c'est avec cette librairie que j'appris le NLP\n",
    "    tokens = text.split()\n",
    "\n",
    "    #Suppression des stops Words anglais puisaque les critiques sont en anglais.\n",
    "    tokens = [t for t in tokens if t not in stopwords.words('english')]\n",
    "    return ' '.join(tokens)\n",
    "\n",
    "#Application du nettoyage sur les critiques\n",
    "df['cleaned_review'] = df['review'].apply(nettoyer_texte)\n",
    "\n",
    "#longeur moyenne des critiques apres nettoyage\n",
    "df['nb_mots_nettoyes'] = df['cleaned_review'].str.split().str.len()\n",
    "print(f\"Nombre moyen de mots (nettoyés): {df['nb_mots_nettoyes'].mean():.1f}\")\n",
    "\n",
    "#Affichage des premiers lignes pour les deux jeu de donnees.\n",
    "#A gauche les critiques originales et a droites, les critiques nettoyes.\n",
    "df[['review', 'cleaned_review']].head()"
   ]
  },
  {
   "cell_type": "markdown",
   "id": "fad45856",
   "metadata": {},
   "source": [
    "## 🧠 5. Vectorisation et séparation des données"
   ]
  },
  {
   "cell_type": "code",
   "execution_count": 5,
   "id": "b987feae",
   "metadata": {},
   "outputs": [
    {
     "name": "stdout",
     "output_type": "stream",
     "text": [
      "Donnees Preparees : \n",
      "Nombre d'échantillons: 1000\n",
      "Nombre de Classes: (2,)\n",
      " Vectorisation terminée\n"
     ]
    }
   ],
   "source": [
    "##L'objectif ici est principalement de rendre les donnees textuelles comprehensibles par notre futur modele.\n",
    "X = df['cleaned_review'] #Categorie des revues netoyes biensur\n",
    "y = df['sentiment']#Categories des sentiment (Ici on aura que deux valeurs : positive et negative)\n",
    "\n",
    "#Voici les chiffres\n",
    "print(\"Donnees Preparees : \")\n",
    "print(f\"Nombre d'échantillons: {len(X)}\")\n",
    "print(f\"Nombre de Classes: {y.unique().shape}\")\n",
    "\n",
    "\n",
    "#Ici je maintiens TfidVectorizer parcequ'il gere bien les frequences d'apparition des motes, mais aussi leur importance lorsqu'on fait du NLP\n",
    "vectorizer = TfidfVectorizer(\n",
    "    max_features=5000,  # Limite le nombre de features\n",
    "        ngram_range=(1, 2), # Utilise unigrammes et bigrammes\n",
    "        min_df=2,          # Ignore les mots qui apparaissent dans moins de 2 documents\n",
    "        max_df=0.95        # Ignore les mots qui apparaissent dans plus de 95% des documents\n",
    ")\n",
    "X_vect = vectorizer.fit_transform(X)\n",
    "print(f\" Vectorisation terminée\")\n",
    "\n",
    "#Separation des donnees avec une distribution 80/20 sans dataset de validation.\n",
    "X_train, X_test, y_train, y_test = train_test_split(X_vect, y, test_size=0.2, random_state=42)\n"
   ]
  },
  {
   "cell_type": "markdown",
   "id": "c9cbfed3",
   "metadata": {},
   "source": [
    "## 🤖 6. Entraînement du modèle"
   ]
  },
  {
   "cell_type": "code",
   "execution_count": 7,
   "id": "a99a7c50",
   "metadata": {},
   "outputs": [],
   "source": [
    "#Le choix de la regression logistique est maintenue ici Parcequ'il est bon pour la classification binaire.\n",
    "#Ce qui l'objet meme de notre travail.\n",
    "model = LogisticRegression() #On choisi donc un model a finetuner : LogisticRegression dans notre cas.\n",
    "\n",
    "#Entrainement du modele avec notre Dataset.\n",
    "model.fit(X_train, y_train)\n",
    "\n",
    "#Test du model sur la dataset de test. On stocke sa prediction dans y_pred\n",
    "y_pred = model.predict(X_test)\n"
   ]
  },
  {
   "cell_type": "markdown",
   "id": "64f5c014",
   "metadata": {},
   "source": [
    "## 📊 7. Évaluation du modèle"
   ]
  },
  {
   "cell_type": "code",
   "execution_count": 8,
   "id": "9d9b5414",
   "metadata": {},
   "outputs": [
    {
     "name": "stdout",
     "output_type": "stream",
     "text": [
      " Accuracy: 1.0000 (100.00%)\n",
      " Precision: 1.0000\n",
      " Recall: 1.0000\n",
      " F1-Score: 1.0000\n",
      "\n",
      " Matrice de confusion:\n",
      "[[ 98   0]\n",
      " [  0 102]]\n",
      "\n",
      " Rapport de classification détaillé:\n",
      "              precision    recall  f1-score   support\n",
      "\n",
      "    negative       1.00      1.00      1.00        98\n",
      "    positive       1.00      1.00      1.00       102\n",
      "\n",
      "    accuracy                           1.00       200\n",
      "   macro avg       1.00      1.00      1.00       200\n",
      "weighted avg       1.00      1.00      1.00       200\n",
      "\n",
      " TOP 10 MOTS INDICATEURS DE SENTIMENT POSITIF:\n",
      " 1. great                (coefficient: +1.4556)\n",
      " 2. wonderful            (coefficient: +1.2324)\n",
      " 3. characters satisfying (coefficient: +1.2324)\n",
      " 4. satisfying ending    (coefficient: +1.2324)\n",
      " 5. wonderful characters (coefficient: +1.2324)\n",
      " 6. satisfying           (coefficient: +1.2324)\n",
      " 7. storyline engaging   (coefficient: +1.0585)\n",
      " 8. engaging             (coefficient: +1.0585)\n",
      " 9. engaging well        (coefficient: +1.0585)\n",
      "10. storyline            (coefficient: +1.0585)\n",
      "\n",
      " TOP 10 MOTS INDICATEURS DE SENTIMENT NÉGATIF:\n",
      " 1. horrible             (coefficient: -1.2213)\n",
      " 2. pacing unsatisfying  (coefficient: -1.2213)\n",
      " 3. horrible pacing      (coefficient: -1.2213)\n",
      " 4. unsatisfying         (coefficient: -1.2213)\n",
      " 5. unsatisfying ending  (coefficient: -1.2213)\n",
      " 6. expected much        (coefficient: -1.2175)\n",
      " 7. much                 (coefficient: -1.2175)\n",
      " 8. expected             (coefficient: -1.2175)\n",
      " 9. disappointing        (coefficient: -1.2175)\n",
      "10. disappointing expected (coefficient: -1.2175)\n"
     ]
    }
   ],
   "source": [
    "# Métriques principales\n",
    "accuracy = accuracy_score(y_test, y_pred)\n",
    "precision, recall, f1, _ = precision_recall_fscore_support(y_test, y_pred, average='weighted')\n",
    "\n",
    "print(f\" Accuracy: {accuracy:.4f} ({accuracy*100:.2f}%)\")\n",
    "print(f\" Precision: {precision:.4f}\")\n",
    "print(f\" Recall: {recall:.4f}\")\n",
    "print(f\" F1-Score: {f1:.4f}\")\n",
    "\n",
    "#Matrice de Confusion\n",
    "print(f\"\\n Matrice de confusion:\")\n",
    "print(confusion_matrix(y_test, y_pred))#La matrice Indique que le modele se debrouille tres tres bien et ne commet aucune erreur.\n",
    "\n",
    "\n",
    "#Rapport de Classification detaille\n",
    "print(f\"\\n Rapport de classification détaillé:\")\n",
    "print(classification_report(y_test, y_pred))\n",
    "\n",
    "\n",
    "##Interpretation\n",
    "def analyser_mots_discriminants(vectorizer, modele, n_mots=10):\n",
    "\n",
    "    \"\"\"\n",
    "    Analyse les mots les plus discriminants pour chaque classe\n",
    "    \"\"\"\n",
    "    if hasattr(modele, 'coef_'):\n",
    "        # Pour les modèles avec des coefficients (comme LogisticRegression)\n",
    "        feature_names = vectorizer.get_feature_names_out()\n",
    "        coefficients = modele.coef_[0]\n",
    "        \n",
    "        # Mots les plus positifs (coefficients les plus élevés)\n",
    "        indices_positifs = coefficients.argsort()[-n_mots:][::-1]\n",
    "        mots_positifs = [(feature_names[i], coefficients[i]) for i in indices_positifs]\n",
    "        \n",
    "        # Mots les plus négatifs (coefficients les plus bas)\n",
    "        indices_negatifs = coefficients.argsort()[:n_mots]\n",
    "        mots_negatifs = [(feature_names[i], coefficients[i]) for i in indices_negatifs]\n",
    "        \n",
    "        print(f\" TOP {n_mots} MOTS INDICATEURS DE SENTIMENT POSITIF:\")\n",
    "        for i, (mot, coef) in enumerate(mots_positifs, 1):\n",
    "            print(f\"{i:2d}. {mot:<20} (coefficient: {coef:+.4f})\")\n",
    "        \n",
    "        print(f\"\\n TOP {n_mots} MOTS INDICATEURS DE SENTIMENT NÉGATIF:\")\n",
    "        for i, (mot, coef) in enumerate(mots_negatifs, 1):\n",
    "            print(f\"{i:2d}. {mot:<20} (coefficient: {coef:+.4f})\")\n",
    "            \n",
    "        return mots_positifs, mots_negatifs\n",
    "    else:\n",
    "        print(\" Ce modèle ne permet pas l'analyse directe des coefficients\")\n",
    "        return [], []\n",
    "mots_positifs, mots_negatifs = analyser_mots_discriminants(vectorizer, model)\n",
    "\n",
    "\n",
    "\n"
   ]
  },
  {
   "cell_type": "markdown",
   "id": "a2bb8edf",
   "metadata": {},
   "source": [
    "## Nouveaux exemples.\n",
    "Cette liste de test a ete genere par IA histoire d'acceleere les choses.\n",
    "\n",
    "## Exemple test\n",
    "\n",
    "\"This movie is absolutely amazing! Best film I've ever seen!\",\n",
    "    \"Terrible movie, completely boring and waste of time\",\n",
    "    \"It was okay, nothing special but not bad either\",\n",
    "    \"Outstanding performances and brilliant storyline\",\n",
    "    \"Worst movie ever made, don't watch it\""
   ]
  },
  {
   "cell_type": "code",
   "execution_count": 9,
   "id": "534d5537",
   "metadata": {},
   "outputs": [
    {
     "name": "stdout",
     "output_type": "stream",
     "text": [
      " Tests sur de nouveaux exemples:\n",
      "\n",
      "📝 Exemple 5:\n",
      "   Texte original: Worst movie ever made, don't watch it\n",
      "   Texte nettoyé:  worst movie ever made watch\n",
      "   Prédiction:     NEGATIVE\n",
      "   Confiance:      0.5321 (53.21%)\n"
     ]
    }
   ],
   "source": [
    "# Tests avec des exemples\n",
    "exemples_test = [\n",
    "    \"This movie is absolutely amazing! Best film I've ever seen!\",\n",
    "    \"Terrible movie, completely boring and waste of time\",\n",
    "    \"It was okay, nothing special but not bad either\",\n",
    "    \"Outstanding performances and brilliant storyline\",\n",
    "    \"Worst movie ever made, don't watch it\"\n",
    "]\n",
    "def nettoyer_texte(text):\n",
    "    \"\"\"\n",
    "    Fonction de nettoyage avancée du texte\n",
    "    \n",
    "    Étapes:\n",
    "    1. Conversion en minuscules\n",
    "    2. Suppression des caractères spéciaux et chiffres\n",
    "    3. Suppression des espaces multiples\n",
    "    4. Tokenisation\n",
    "    5. Suppression des stop words\n",
    "    6. Filtrage des mots trop courts\n",
    "    \"\"\"\n",
    "    if pd.isna(text):\n",
    "        return \"\"\n",
    "    \n",
    "    # Conversion en minuscules\n",
    "    text = text.lower()\n",
    "    \n",
    "    # Suppression des caractères spéciaux et chiffres\n",
    "    text = re.sub(r'[^a-zA-Z\\s]', ' ', text)\n",
    "    \n",
    "    # Suppression des espaces multiples\n",
    "    text = re.sub(r'\\s+', ' ', text)\n",
    "    \n",
    "    # Tokenisation\n",
    "    tokens = text.split()\n",
    "    \n",
    "    # Suppression des stop words\n",
    "    try:\n",
    "        stop_words = set(stopwords.words('english'))\n",
    "    except:\n",
    "        stop_words = STOP_WORDS\n",
    "    \n",
    "    tokens = [token for token in tokens if token not in stop_words]\n",
    "    \n",
    "    # Filtrage des mots trop courts (moins de 3 caractères)\n",
    "    tokens = [token for token in tokens if len(token) >= 3]\n",
    "    \n",
    "    return ' '.join(tokens)\n",
    "\n",
    "def predire_sentiment(texte, modele, vectorizer):\n",
    "    \"\"\"\n",
    "    Prédit le sentiment d'un nouveau texte\n",
    "    \"\"\"\n",
    "    # Nettoyage du texte\n",
    "    texte_nettoye = nettoyer_texte(texte)\n",
    "    \n",
    "    # Vectorisation\n",
    "    texte_vectorise = vectorizer.transform([texte_nettoye])\n",
    "    \n",
    "    # Prédiction\n",
    "    prediction = modele.predict(texte_vectorise)[0]\n",
    "    \n",
    "    # Probabilités (si disponibles)\n",
    "    if hasattr(modele, 'predict_proba'):\n",
    "        probas = modele.predict_proba(texte_vectorise)[0]\n",
    "        confiance = max(probas)\n",
    "    else:\n",
    "        confiance = None\n",
    "    \n",
    "    return prediction, confiance, texte_nettoye\n",
    "\n",
    "\n",
    "print(\" Tests sur de nouveaux exemples:\")\n",
    "\n",
    "for i, exemple in enumerate(exemples_test, 1):\n",
    "    prediction, confiance, texte_nettoye = predire_sentiment(exemple, model, vectorizer)\n",
    "    \n",
    "print(f\"\\n📝 Exemple {i}:\")\n",
    "print(f\"   Texte original: {exemple}\")\n",
    "print(f\"   Texte nettoyé:  {texte_nettoye}\")\n",
    "print(f\"   Prédiction:     {prediction.upper()}\")\n",
    "if confiance:\n",
    "    print(f\"   Confiance:      {confiance:.4f} ({confiance*100:.2f}%)\")\n"
   ]
  },
  {
   "cell_type": "markdown",
   "id": "b22d7e58",
   "metadata": {},
   "source": [
    "## 🧪 8. Test sur une nouvelle critique"
   ]
  },
  {
   "cell_type": "code",
   "execution_count": 10,
   "id": "675efbd3",
   "metadata": {},
   "outputs": [
    {
     "data": {
      "text/plain": [
       "'negative'"
      ]
     },
     "execution_count": 10,
     "metadata": {},
     "output_type": "execute_result"
    }
   ],
   "source": [
    "\n",
    "def predict_review(text):\n",
    "    text_cleaned = nettoyer_texte(text)\n",
    "    vect = vectorizer.transform([text_cleaned])\n",
    "    return model.predict(vect)[0]\n",
    "\n",
    "# Exemple :\n",
    "predict_review(\"This movie was a total disappointment\")\n"
   ]
  },
  {
   "cell_type": "code",
   "execution_count": 11,
   "id": "1dd5c058",
   "metadata": {},
   "outputs": [
    {
     "name": "stdout",
     "output_type": "stream",
     "text": [
      "\n",
      "==================================================\n",
      "🎮 INTERFACE INTERACTIVE\n",
      "==================================================\n",
      "\n",
      "🎯 Interface de prédiction de sentiment\n",
      "💡 Entrez une critique de film pour connaître son sentiment\n",
      "💡 Tapez 'quit' pour quitter\n",
      "--------------------------------------------------\n",
      "⚠️ Veuillez entrer une critique valide\n",
      "👋 Au revoir!\n"
     ]
    }
   ],
   "source": [
    "print(\"\\n\" + \"=\"*50)\n",
    "print(\"🎮 INTERFACE INTERACTIVE\")\n",
    "print(\"=\"*50)\n",
    "\n",
    "def interface_interactive():\n",
    "    \"\"\"\n",
    "    Interface simple pour tester le modèle en temps réel\n",
    "    \"\"\"\n",
    "    print(\"\\n🎯 Interface de prédiction de sentiment\")\n",
    "    print(\"💡 Entrez une critique de film pour connaître son sentiment\")\n",
    "    print(\"💡 Tapez 'quit' pour quitter\")\n",
    "    print(\"-\" * 50)\n",
    "    \n",
    "    while True:\n",
    "        try:\n",
    "            texte_utilisateur = input(\"\\n📝 Entrez votre critique: \").strip()\n",
    "            \n",
    "            if texte_utilisateur.lower() in ['quit', 'exit', 'q']:\n",
    "                print(\"👋 Au revoir!\")\n",
    "                break\n",
    "            \n",
    "            if not texte_utilisateur:\n",
    "                print(\"⚠️ Veuillez entrer une critique valide\")\n",
    "                continue\n",
    "            \n",
    "            # Prédiction\n",
    "            prediction, confiance, texte_nettoye = predire_sentiment(\n",
    "                texte_utilisateur, model, vectorizer\n",
    "            )\n",
    "            \n",
    "            # Affichage du résultat\n",
    "            emoji = \"😊\" if prediction == 'positive' else \"😞\"\n",
    "            print(f\"\\n🤖 Résultat: {emoji} {prediction.upper()}\")\n",
    "            if confiance:\n",
    "                print(f\"🎯 Confiance: {confiance*100:.1f}%\")\n",
    "            \n",
    "        except KeyboardInterrupt:\n",
    "            print(\"\\n👋 Au revoir!\")\n",
    "            break\n",
    "        except Exception as e:\n",
    "            print(f\"❌ Erreur: {e}\")\n",
    "\n",
    "interface_interactive()  "
   ]
  }
 ],
 "metadata": {
  "kernelspec": {
   "display_name": "Python 3",
   "language": "python",
   "name": "python3"
  },
  "language_info": {
   "codemirror_mode": {
    "name": "ipython",
    "version": 3
   },
   "file_extension": ".py",
   "mimetype": "text/x-python",
   "name": "python",
   "nbconvert_exporter": "python",
   "pygments_lexer": "ipython3",
   "version": "3.12.7"
  }
 },
 "nbformat": 4,
 "nbformat_minor": 5
}
